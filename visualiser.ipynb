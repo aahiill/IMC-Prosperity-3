{
 "cells": [
  {
   "cell_type": "code",
   "execution_count": 1,
   "id": "aa5e2eec",
   "metadata": {},
   "outputs": [],
   "source": [
    "import pandas as pd\n",
    "import numpy as np\n",
    "import plotly.graph_objects as go\n",
    "import plotly.express as px\n",
    "import statistics as st\n",
    "\n",
    "def get_df(day):\n",
    "    file_name = f\"round-4-island-data-bottle/prices_round_4_day_{day}.csv\"\n",
    "    df = pd.read_csv(file_name, sep=';')\n",
    "    df['timestamp'] = df['timestamp'] + 1_000_000 * (day - 1)\n",
    "    return df\n",
    "\n",
    "def get_observations_df(day):\n",
    "    file_name = f\"round-4-island-data-bottle/observations_round_4_day_{day}.csv\"\n",
    "    df = pd.read_csv(file_name, sep=';')\n",
    "    print(df.columns)\n",
    "    df['timestamp'] = df['timestamp'] + 1_000_000 * (day - 1)\n",
    "    return df\n",
    "\n",
    "def get_trades_df(day):\n",
    "    file_name = f\"round-4-island-data-bottle/trades_round_4_day_{day}.csv\"\n",
    "    return pd.read_csv(file_name, sep=';')\n",
    "\n",
    "def get_product(df, product):\n",
    "    return df[df['product'] == product].copy()\n",
    "\n",
    "def get_first_three_dfs():\n",
    "    first_df = get_df(1)\n",
    "    second_df = get_df(2)\n",
    "    third_df = get_df(3)\n",
    "    return pd.concat([first_df, second_df, third_df], ignore_index=True)\n",
    "\n",
    "def get_first_three_dfs_observations():\n",
    "    first_df = get_observations_df(1)\n",
    "    second_df = get_observations_df(2)\n",
    "    third_df = get_observations_df(3)\n",
    "    return pd.concat([first_df, second_df, third_df], ignore_index=True)"
   ]
  },
  {
   "cell_type": "code",
   "execution_count": 2,
   "id": "7055d9d5",
   "metadata": {},
   "outputs": [
    {
     "name": "stdout",
     "output_type": "stream",
     "text": [
      "Index(['timestamp,bidPrice,askPrice,transportFees,exportTariff,importTariff,sugarPrice,sunlightIndex'], dtype='object')\n"
     ]
    },
    {
     "ename": "KeyError",
     "evalue": "'timestamp'",
     "output_type": "error",
     "traceback": [
      "\u001b[31m---------------------------------------------------------------------------\u001b[39m",
      "\u001b[31mKeyError\u001b[39m                                  Traceback (most recent call last)",
      "\u001b[36mFile \u001b[39m\u001b[32mc:\\Users\\ayman\\AppData\\Local\\Programs\\Python\\Python312\\Lib\\site-packages\\pandas\\core\\indexes\\base.py:3805\u001b[39m, in \u001b[36mIndex.get_loc\u001b[39m\u001b[34m(self, key)\u001b[39m\n\u001b[32m   3804\u001b[39m \u001b[38;5;28;01mtry\u001b[39;00m:\n\u001b[32m-> \u001b[39m\u001b[32m3805\u001b[39m     \u001b[38;5;28;01mreturn\u001b[39;00m \u001b[38;5;28;43mself\u001b[39;49m\u001b[43m.\u001b[49m\u001b[43m_engine\u001b[49m\u001b[43m.\u001b[49m\u001b[43mget_loc\u001b[49m\u001b[43m(\u001b[49m\u001b[43mcasted_key\u001b[49m\u001b[43m)\u001b[49m\n\u001b[32m   3806\u001b[39m \u001b[38;5;28;01mexcept\u001b[39;00m \u001b[38;5;167;01mKeyError\u001b[39;00m \u001b[38;5;28;01mas\u001b[39;00m err:\n",
      "\u001b[36mFile \u001b[39m\u001b[32mindex.pyx:167\u001b[39m, in \u001b[36mpandas._libs.index.IndexEngine.get_loc\u001b[39m\u001b[34m()\u001b[39m\n",
      "\u001b[36mFile \u001b[39m\u001b[32mindex.pyx:196\u001b[39m, in \u001b[36mpandas._libs.index.IndexEngine.get_loc\u001b[39m\u001b[34m()\u001b[39m\n",
      "\u001b[36mFile \u001b[39m\u001b[32mpandas\\\\_libs\\\\hashtable_class_helper.pxi:7081\u001b[39m, in \u001b[36mpandas._libs.hashtable.PyObjectHashTable.get_item\u001b[39m\u001b[34m()\u001b[39m\n",
      "\u001b[36mFile \u001b[39m\u001b[32mpandas\\\\_libs\\\\hashtable_class_helper.pxi:7089\u001b[39m, in \u001b[36mpandas._libs.hashtable.PyObjectHashTable.get_item\u001b[39m\u001b[34m()\u001b[39m\n",
      "\u001b[31mKeyError\u001b[39m: 'timestamp'",
      "\nThe above exception was the direct cause of the following exception:\n",
      "\u001b[31mKeyError\u001b[39m                                  Traceback (most recent call last)",
      "\u001b[36mCell\u001b[39m\u001b[36m \u001b[39m\u001b[32mIn[2]\u001b[39m\u001b[32m, line 3\u001b[39m\n\u001b[32m      1\u001b[39m \u001b[38;5;66;03m# First, load the data\u001b[39;00m\n\u001b[32m      2\u001b[39m df = get_first_three_dfs()  \u001b[38;5;66;03m# Loads data from Day 1 and Day 2\u001b[39;00m\n\u001b[32m----> \u001b[39m\u001b[32m3\u001b[39m obv_df = \u001b[43mget_first_three_dfs_observations\u001b[49m\u001b[43m(\u001b[49m\u001b[43m)\u001b[49m  \u001b[38;5;66;03m# Loads observations data from Day 1 and Day 2\u001b[39;00m\n\u001b[32m      5\u001b[39m \u001b[38;5;66;03m# Ensure 'timestamp' column exists in obv_df\u001b[39;00m\n\u001b[32m      6\u001b[39m \u001b[38;5;28;01mif\u001b[39;00m \u001b[33m'\u001b[39m\u001b[33mtimestamp\u001b[39m\u001b[33m'\u001b[39m \u001b[38;5;129;01mnot\u001b[39;00m \u001b[38;5;129;01min\u001b[39;00m obv_df.columns:\n",
      "\u001b[36mCell\u001b[39m\u001b[36m \u001b[39m\u001b[32mIn[1]\u001b[39m\u001b[32m, line 34\u001b[39m, in \u001b[36mget_first_three_dfs_observations\u001b[39m\u001b[34m()\u001b[39m\n\u001b[32m     33\u001b[39m \u001b[38;5;28;01mdef\u001b[39;00m\u001b[38;5;250m \u001b[39m\u001b[34mget_first_three_dfs_observations\u001b[39m():\n\u001b[32m---> \u001b[39m\u001b[32m34\u001b[39m     first_df = \u001b[43mget_observations_df\u001b[49m\u001b[43m(\u001b[49m\u001b[32;43m1\u001b[39;49m\u001b[43m)\u001b[49m\n\u001b[32m     35\u001b[39m     second_df = get_observations_df(\u001b[32m2\u001b[39m)\n\u001b[32m     36\u001b[39m     third_df = get_observations_df(\u001b[32m3\u001b[39m)\n",
      "\u001b[36mCell\u001b[39m\u001b[36m \u001b[39m\u001b[32mIn[1]\u001b[39m\u001b[32m, line 17\u001b[39m, in \u001b[36mget_observations_df\u001b[39m\u001b[34m(day)\u001b[39m\n\u001b[32m     15\u001b[39m df = pd.read_csv(file_name, sep=\u001b[33m'\u001b[39m\u001b[33m;\u001b[39m\u001b[33m'\u001b[39m)\n\u001b[32m     16\u001b[39m \u001b[38;5;28mprint\u001b[39m(df.columns)\n\u001b[32m---> \u001b[39m\u001b[32m17\u001b[39m df[\u001b[33m'\u001b[39m\u001b[33mtimestamp\u001b[39m\u001b[33m'\u001b[39m] = \u001b[43mdf\u001b[49m\u001b[43m[\u001b[49m\u001b[33;43m'\u001b[39;49m\u001b[33;43mtimestamp\u001b[39;49m\u001b[33;43m'\u001b[39;49m\u001b[43m]\u001b[49m + \u001b[32m1_000_000\u001b[39m * (day - \u001b[32m1\u001b[39m)\n\u001b[32m     18\u001b[39m \u001b[38;5;28;01mreturn\u001b[39;00m df\n",
      "\u001b[36mFile \u001b[39m\u001b[32mc:\\Users\\ayman\\AppData\\Local\\Programs\\Python\\Python312\\Lib\\site-packages\\pandas\\core\\frame.py:4102\u001b[39m, in \u001b[36mDataFrame.__getitem__\u001b[39m\u001b[34m(self, key)\u001b[39m\n\u001b[32m   4100\u001b[39m \u001b[38;5;28;01mif\u001b[39;00m \u001b[38;5;28mself\u001b[39m.columns.nlevels > \u001b[32m1\u001b[39m:\n\u001b[32m   4101\u001b[39m     \u001b[38;5;28;01mreturn\u001b[39;00m \u001b[38;5;28mself\u001b[39m._getitem_multilevel(key)\n\u001b[32m-> \u001b[39m\u001b[32m4102\u001b[39m indexer = \u001b[38;5;28;43mself\u001b[39;49m\u001b[43m.\u001b[49m\u001b[43mcolumns\u001b[49m\u001b[43m.\u001b[49m\u001b[43mget_loc\u001b[49m\u001b[43m(\u001b[49m\u001b[43mkey\u001b[49m\u001b[43m)\u001b[49m\n\u001b[32m   4103\u001b[39m \u001b[38;5;28;01mif\u001b[39;00m is_integer(indexer):\n\u001b[32m   4104\u001b[39m     indexer = [indexer]\n",
      "\u001b[36mFile \u001b[39m\u001b[32mc:\\Users\\ayman\\AppData\\Local\\Programs\\Python\\Python312\\Lib\\site-packages\\pandas\\core\\indexes\\base.py:3812\u001b[39m, in \u001b[36mIndex.get_loc\u001b[39m\u001b[34m(self, key)\u001b[39m\n\u001b[32m   3807\u001b[39m     \u001b[38;5;28;01mif\u001b[39;00m \u001b[38;5;28misinstance\u001b[39m(casted_key, \u001b[38;5;28mslice\u001b[39m) \u001b[38;5;129;01mor\u001b[39;00m (\n\u001b[32m   3808\u001b[39m         \u001b[38;5;28misinstance\u001b[39m(casted_key, abc.Iterable)\n\u001b[32m   3809\u001b[39m         \u001b[38;5;129;01mand\u001b[39;00m \u001b[38;5;28many\u001b[39m(\u001b[38;5;28misinstance\u001b[39m(x, \u001b[38;5;28mslice\u001b[39m) \u001b[38;5;28;01mfor\u001b[39;00m x \u001b[38;5;129;01min\u001b[39;00m casted_key)\n\u001b[32m   3810\u001b[39m     ):\n\u001b[32m   3811\u001b[39m         \u001b[38;5;28;01mraise\u001b[39;00m InvalidIndexError(key)\n\u001b[32m-> \u001b[39m\u001b[32m3812\u001b[39m     \u001b[38;5;28;01mraise\u001b[39;00m \u001b[38;5;167;01mKeyError\u001b[39;00m(key) \u001b[38;5;28;01mfrom\u001b[39;00m\u001b[38;5;250m \u001b[39m\u001b[34;01merr\u001b[39;00m\n\u001b[32m   3813\u001b[39m \u001b[38;5;28;01mexcept\u001b[39;00m \u001b[38;5;167;01mTypeError\u001b[39;00m:\n\u001b[32m   3814\u001b[39m     \u001b[38;5;66;03m# If we have a listlike key, _check_indexing_error will raise\u001b[39;00m\n\u001b[32m   3815\u001b[39m     \u001b[38;5;66;03m#  InvalidIndexError. Otherwise we fall through and re-raise\u001b[39;00m\n\u001b[32m   3816\u001b[39m     \u001b[38;5;66;03m#  the TypeError.\u001b[39;00m\n\u001b[32m   3817\u001b[39m     \u001b[38;5;28mself\u001b[39m._check_indexing_error(key)\n",
      "\u001b[31mKeyError\u001b[39m: 'timestamp'"
     ]
    }
   ],
   "source": [
    "# First, load the data\n",
    "df = get_first_three_dfs()  # Loads data from Day 1 and Day 2\n",
    "obv_df = get_first_three_dfs_observations()  # Loads observations data from Day 1 and Day 2\n",
    "\n",
    "# Ensure 'timestamp' column exists in obv_df\n",
    "if 'timestamp' not in obv_df.columns:\n",
    "    raise KeyError(\"'timestamp' column is missing in the observations DataFrame.\")\n",
    "\n",
    "print(obv_df.head())\n",
    "print(obv_df.columns)\n",
    "# Merge the dataframes on 'timestamp' to get sunlightIndex and price together\n",
    "df = pd.merge(df, obv_df[['timestamp', 'sunlightIndex']], on='timestamp', how='left')\n",
    "\n",
    "# Filter relevant data for Macarons and Sugar (assuming product names in the CSV)\n",
    "macaron_df = get_product(df, 'MAGNIFICENT_MACARONS')\n",
    "sugar_df = get_product(df, 'SUGAR')\n",
    "\n",
    "# Now, visualize the relationship between sunlightIndex, macaron price, and sugar price\n",
    "# Assuming `sunlightIndex`, `timestamp`, and `price` columns are available\n",
    "\n",
    "fig = go.Figure()\n",
    "\n",
    "# Add scatter plot for Macaron price vs Sunlight Index\n",
    "fig.add_trace(go.Scatter(x=macaron_df['sunlightIndex'], y=macaron_df['price'],\n",
    "                         mode='markers', name='Macaron Prices',\n",
    "                         marker=dict(color='blue', size=8)))\n",
    "\n",
    "# Add scatter plot for Sugar price vs Sunlight Index\n",
    "fig.add_trace(go.Scatter(x=sugar_df['sunlightIndex'], y=sugar_df['price'],\n",
    "                         mode='markers', name='Sugar Prices',\n",
    "                         marker=dict(color='red', size=8)))\n",
    "\n",
    "# Add titles and labels\n",
    "fig.update_layout(title='Price vs Sunlight Index',\n",
    "                  xaxis_title='Sunlight Index',\n",
    "                  yaxis_title='Price',\n",
    "                  template='plotly_dark')\n",
    "\n",
    "# Show plot\n",
    "fig.show()"
   ]
  }
 ],
 "metadata": {
  "kernelspec": {
   "display_name": "Python 3",
   "language": "python",
   "name": "python3"
  },
  "language_info": {
   "codemirror_mode": {
    "name": "ipython",
    "version": 3
   },
   "file_extension": ".py",
   "mimetype": "text/x-python",
   "name": "python",
   "nbconvert_exporter": "python",
   "pygments_lexer": "ipython3",
   "version": "3.12.6"
  }
 },
 "nbformat": 4,
 "nbformat_minor": 5
}
