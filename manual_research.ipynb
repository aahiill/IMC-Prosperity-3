{
 "cells": [
  {
   "cell_type": "code",
   "execution_count": null,
   "id": "b1d8c3d3",
   "metadata": {},
   "outputs": [],
   "source": [
    "cases = [(80, 6), #1\n",
    "        (50, 4), #2\n",
    "        (83, 7), #3\n",
    "        (31,2), #4\n",
    "        (60,4), #5\n",
    "        (89,8), #6\n",
    "        (10,1), #7\n",
    "        (37,3), #8\n",
    "        (70, 4), #9\n",
    "        (90, 10), #10\n",
    "        (17, 1), #11\n",
    "        (40, 3), #12\n",
    "        (73, 4), #13\n",
    "        (100, 15),  #14\n",
    "        (20, 2), #15\n",
    "        (41, 3), #16\n",
    "        (79, 5), #17\n",
    "        (23, 2), #18\n",
    "        (47, 3), #19\n",
    "        (30, 2) #20\n",
    "        ]"
   ]
  },
  {
   "cell_type": "code",
   "execution_count": 3,
   "id": "f4dc8be6",
   "metadata": {},
   "outputs": [
    {
     "name": "stdout",
     "output_type": "stream",
     "text": [
      "[(14, 182500.0), (9, 175000.0), (10, 175000.0), (12, 170000.0), (18, 158000.0), (20, 156666.66666666666), (4, 155000.0), (5, 150000.0), (21, 150000.0), (17, 136666.66666666666), (1, 133333.33333333334), (13, 133333.33333333334), (2, 125000.0), (8, 123333.33333333333), (3, 118571.42857142857), (19, 115000.0), (6, 111250.0), (7, 100000.0), (16, 100000.0), (11, 90000.0), (15, 66666.66666666667)]\n"
     ]
    }
   ],
   "source": [
    "profits = []\n",
    "case_counter = 1\n",
    "\n",
    "for x in cases:\n",
    "    theoretical_profit = x[0] * 10000 / x[1]\n",
    "    profits.append((case_counter, theoretical_profit))\n",
    "    case_counter += 1\n",
    "\n",
    "profits.sort(key=lambda x: x[1], reverse=True)\n",
    "print(profits)\n"
   ]
  },
  {
   "cell_type": "markdown",
   "id": "f1cef7de",
   "metadata": {},
   "source": [
    "![alt text](image.png)"
   ]
  },
  {
   "cell_type": "code",
   "execution_count": 14,
   "id": "c6c3ede0",
   "metadata": {},
   "outputs": [
    {
     "name": "stdout",
     "output_type": "stream",
     "text": [
      "[[20, 55340], [10, 50050], [37, 45578], [90, 41271], [50, 39949], [89, 38389], [31, 34494], [80, 33088], [73, 26016], [17, 19909]]\n",
      "[[73, 182500], [17, 170000], [31, 155000], [80, 133333], [50, 125000], [37, 123333], [89, 111250], [10, 100000], [20, 100000], [90, 90000]]\n"
     ]
    }
   ],
   "source": [
    "last_profits = []\n",
    "last_theoretical_profit = []\n",
    "\n",
    "last_data = [[10, 1, 0.998], [80, 6, 18.178], [37, 3, 5.118], [17, 1, 7.539], \n",
    "             [90, 10, 11.807], [31, 2, 6.987], [50, 4, 8.516], [20, 2, 1.614], [73, 4, 24.060], [89, 8, 15.184]]\n",
    "\n",
    "for x in last_data:\n",
    "    theoretical_profit = x[0] * 10000 / (x[1] + x[2])\n",
    "    last_profits.append([x[0], round(theoretical_profit)])\n",
    "\n",
    "for x in last_data:\n",
    "    theoretical_profit = x[0] * 10000 / (x[1])\n",
    "    last_theoretical_profit.append([x[0], round(theoretical_profit)])\n",
    "\n",
    "last_profits.sort(key=lambda x: x[1], reverse=True)\n",
    "print(last_profits)\n",
    "last_theoretical_profit.sort(key=lambda x: x[1], reverse=True)\n",
    "print(last_theoretical_profit)\n",
    "\n"
   ]
  }
 ],
 "metadata": {
  "kernelspec": {
   "display_name": "Python 3",
   "language": "python",
   "name": "python3"
  },
  "language_info": {
   "codemirror_mode": {
    "name": "ipython",
    "version": 3
   },
   "file_extension": ".py",
   "mimetype": "text/x-python",
   "name": "python",
   "nbconvert_exporter": "python",
   "pygments_lexer": "ipython3",
   "version": "3.12.6"
  }
 },
 "nbformat": 4,
 "nbformat_minor": 5
}
