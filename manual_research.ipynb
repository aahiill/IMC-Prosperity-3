{
 "cells": [
  {
   "cell_type": "code",
   "execution_count": 5,
   "id": "b1d8c3d3",
   "metadata": {},
   "outputs": [],
   "source": [
    "cases = [(80, 6), #1\n",
    "        (50, 4), #2\n",
    "        (83, 7), #3\n",
    "        (31,2), #4\n",
    "        (60,4), #5\n",
    "        (89,8), #6\n",
    "        (10,1), #7\n",
    "        (37,3), #8\n",
    "        (70, 4), #9\n",
    "        (90, 10), #10\n",
    "        (17, 1), #11\n",
    "        (40, 3), #12\n",
    "        (73, 4), #13\n",
    "        (100, 15),  #14\n",
    "        (20, 2), #15\n",
    "        (41, 3), #16\n",
    "        (79, 5), #17\n",
    "        (23, 2), #18\n",
    "        (47, 3), #19\n",
    "        (30, 2) #20\n",
    "        ]"
   ]
  },
  {
   "cell_type": "code",
   "execution_count": 6,
   "id": "f4dc8be6",
   "metadata": {},
   "outputs": [
    {
     "name": "stdout",
     "output_type": "stream",
     "text": [
      "[(13, 182500.0), (9, 175000.0), (11, 170000.0), (17, 158000.0), (19, 156666.66666666666), (4, 155000.0), (5, 150000.0), (20, 150000.0), (16, 136666.66666666666), (1, 133333.33333333334), (12, 133333.33333333334), (2, 125000.0), (8, 123333.33333333333), (3, 118571.42857142857), (18, 115000.0), (6, 111250.0), (7, 100000.0), (15, 100000.0), (10, 90000.0), (14, 66666.66666666667)]\n"
     ]
    }
   ],
   "source": [
    "profits = []\n",
    "case_counter = 1\n",
    "\n",
    "for x in cases:\n",
    "    theoretical_profit = x[0] * 10000 / x[1]\n",
    "    profits.append((case_counter, theoretical_profit))\n",
    "    case_counter += 1\n",
    "\n",
    "profits.sort(key=lambda x: x[1], reverse=True)\n",
    "print(profits)\n"
   ]
  },
  {
   "cell_type": "markdown",
   "id": "f1cef7de",
   "metadata": {},
   "source": [
    "![alt text](image.png)"
   ]
  },
  {
   "cell_type": "code",
   "execution_count": 29,
   "id": "c6c3ede0",
   "metadata": {},
   "outputs": [
    {
     "name": "stdout",
     "output_type": "stream",
     "text": [
      "  Row  Column  Multiplier  Contestants   Expected    Actual  Prize per person  Actual Prize per person  Expected Rank  Actual Rank Comparison\n",
      "0   8       3          20            2 100,000.00 55,340.34        100,000.00                55,340.34              8            1        8-1\n",
      "1   1       1          10            1 100,000.00 50,050.05        100,000.00                50,050.05              8            2        8-2\n",
      "2   3       3          37            3 123,333.33 45,577.73        123,333.33                45,577.73              6            3        6-3\n",
      "3   5       5          90           10  90,000.00 41,271.15         90,000.00                41,271.15             10            4       10-4\n",
      "4   7       2          50            4 125,000.00 39,948.87        125,000.00                39,948.87              5            5        5-5\n",
      "5  10       5          89            8 111,250.00 38,388.54        111,250.00                38,388.54              7            6        7-6\n",
      "6   6       1          31            2 155,000.00 34,494.27        155,000.00                34,494.27              3            7        3-7\n",
      "7   2       2          80            6 133,333.33 33,087.93        133,333.33                33,087.93              4            8        4-8\n",
      "8   9       4          73            4 182,500.00 26,015.68        182,500.00                26,015.68              1            9        1-9\n",
      "9   4       4          17            1 170,000.00 19,908.65        170,000.00                19,908.65              2           10       2-10\n"
     ]
    }
   ],
   "source": [
    "import pandas as pd\n",
    "\n",
    "data = {\n",
    "    (\"1\", 1): (10, 1, 0.998),\n",
    "    (\"2\", 2): (80, 6, 18.178),\n",
    "    (\"3\", 3): (37, 3, 5.118),\n",
    "    (\"4\", 4): (17, 1, 7.539),\n",
    "    (\"5\", 5): (90, 10, 11.807),\n",
    "    (\"6\", 1): (31, 2, 6.987),\n",
    "    (\"7\", 2): (50, 4, 8.516),\n",
    "    (\"8\", 3): (20, 2, 1.614),\n",
    "    (\"9\", 4): (73, 4, 24.060),\n",
    "    (\"10\", 5): (89, 8, 15.184),\n",
    "}\n",
    "\n",
    "rows = []\n",
    "for (row, col), (mult, players, pick) in data.items():\n",
    "    rows.append({\n",
    "        \"Row\": row,\n",
    "        \"Column\": col,\n",
    "        \"Multiplier\": mult,\n",
    "        \"Contestants\": players,\n",
    "        \"Expected\": (10_000 * mult) / players,\n",
    "        \"Actual\": (10_000 * mult) / (players + pick)\n",
    "    })\n",
    "\n",
    "df = pd.DataFrame(rows)\n",
    "\n",
    "# Round for better display\n",
    "df[\"Prize per person\"] = df[\"Expected\"].round(2)\n",
    "df[\"Actual Prize per person\"] = df[\"Actual\"].round(2)\n",
    "\n",
    "# Compute expected and actual rankings (rank 1 = best/highest value)\n",
    "df[\"Expected Rank\"] = df[\"Prize per person\"].rank(ascending=False).astype(int)\n",
    "df[\"Actual Rank\"] = df[\"Actual Prize per person\"].rank(ascending=False).astype(int)\n",
    "\n",
    "# Comparison column like \"1-3\"\n",
    "df[\"Comparison\"] = df[\"Expected Rank\"].astype(str) + \"-\" + df[\"Actual Rank\"].astype(str)\n",
    "\n",
    "# Sort by Actual Rank for final display\n",
    "df = df.sort_values(by=\"Actual Rank\").reset_index(drop=True)\n",
    "\n",
    "# Display settings\n",
    "pd.set_option('display.max_columns', None)\n",
    "pd.set_option('display.width', 200)\n",
    "pd.set_option('display.float_format', '{:,.2f}'.format)\n",
    "\n",
    "print(df)"
   ]
  },
  {
   "cell_type": "code",
   "execution_count": 25,
   "id": "173613ee",
   "metadata": {},
   "outputs": [
    {
     "name": "stdout",
     "output_type": "stream",
     "text": [
      "   Row  Column  Multiplier  Contestants  Prize per person\n",
      "0    C       3          73            4        182,500.00\n",
      "1    B       2          18            1        180,000.00\n",
      "2    B       4          70            4        175,000.00\n",
      "3    C       1          17            1        170,000.00\n",
      "4    D       2          79            5        158,000.00\n",
      "5    D       4          47            3        156,666.67\n",
      "6    A       4          31            2        155,000.00\n",
      "7    D       5          30            2        150,000.00\n",
      "8    A       5          60            4        150,000.00\n",
      "9    D       1          41            3        136,666.67\n",
      "10   C       2          40            3        133,333.33\n",
      "11   A       1          80            6        133,333.33\n",
      "12   A       2          50            4        125,000.00\n",
      "13   B       3          37            3        123,333.33\n",
      "14   A       3          83            7        118,571.43\n",
      "15   D       3          23            2        115,000.00\n",
      "16   B       1          89            8        111,250.00\n",
      "17   C       5          20            2        100,000.00\n",
      "18   B       5          90           10         90,000.00\n",
      "19   C       4         100           15         66,666.67\n"
     ]
    }
   ],
   "source": [
    "import pandas as pd\n",
    "\n",
    "# corrected data (A1 multiplier 80 instead of 88)\n",
    "data = {\n",
    "    (\"A\", 1): (80, 6),   # corrected here\n",
    "    (\"A\", 2): (50, 4),\n",
    "    (\"A\", 3): (83, 7),\n",
    "    (\"A\", 4): (31, 2),\n",
    "    (\"A\", 5): (60, 4),\n",
    "    (\"B\", 1): (89, 8),\n",
    "    (\"B\", 2): (18, 1),\n",
    "    (\"B\", 3): (37, 3),\n",
    "    (\"B\", 4): (70, 4),\n",
    "    (\"B\", 5): (90, 10),\n",
    "    (\"C\", 1): (17, 1),\n",
    "    (\"C\", 2): (40, 3),\n",
    "    (\"C\", 3): (73, 4),\n",
    "    (\"C\", 4): (100, 15),\n",
    "    (\"C\", 5): (20, 2),\n",
    "    (\"D\", 1): (41, 3),\n",
    "    (\"D\", 2): (79, 5),\n",
    "    (\"D\", 3): (23, 2),\n",
    "    (\"D\", 4): (47, 3),\n",
    "    (\"D\", 5): (30, 2),\n",
    "}\n",
    "\n",
    "rows = []\n",
    "for (row, col), (mult, players) in data.items():\n",
    "    rows.append({\n",
    "        \"Row\": row,\n",
    "        \"Column\": col,\n",
    "        \"Multiplier\": mult,\n",
    "        \"Contestants\": players,\n",
    "        \"Prize per person\": (10_000 * mult) / players\n",
    "    })\n",
    "\n",
    "df = df.sort_values(by=\"Prize per person\", ascending=False).reset_index(drop=True)\n",
    "\n",
    "pd.set_option('display.max_columns', None)         # Show all columns\n",
    "pd.set_option('display.width', 200)                # Wider line for full row display\n",
    "pd.set_option('display.float_format', '{:,.2f}'.format)  # Format floats nicely\n",
    "\n",
    "print(df)"
   ]
  }
 ],
 "metadata": {
  "kernelspec": {
   "display_name": "Python 3",
   "language": "python",
   "name": "python3"
  },
  "language_info": {
   "codemirror_mode": {
    "name": "ipython",
    "version": 3
   },
   "file_extension": ".py",
   "mimetype": "text/x-python",
   "name": "python",
   "nbconvert_exporter": "python",
   "pygments_lexer": "ipython3",
   "version": "3.12.6"
  }
 },
 "nbformat": 4,
 "nbformat_minor": 5
}
